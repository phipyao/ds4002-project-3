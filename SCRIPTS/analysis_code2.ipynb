{
 "cells": [
  {
   "cell_type": "code",
   "execution_count": null,
   "metadata": {},
   "outputs": [],
   "source": [
    "import os\n",
    "\n",
    "from tqdm import tqdm\n",
    "from json import dumps\n",
    "from ujson import load as json_load\n",
    "\n",
    "import matplotlib as plt\n",
    "import numpy as np\n",
    "import random\n",
    "import torch\n",
    "import torch.utils.data as data\n",
    "import torch.nn as nn\n",
    "import torch.nn.functional as F\n",
    "import torch.optim as optim\n",
    "import torch.optim.lr_scheduler as sched\n",
    "\n",
    "from data_loader import fetch_dataloader\n",
    "from CNN import BinaryClimbCNN\n",
    "\n",
    "from PIL import Image"
   ]
  },
  {
   "cell_type": "code",
   "execution_count": null,
   "metadata": {},
   "outputs": [
    {
     "name": "stdout",
     "output_type": "stream",
     "text": [
      "(16025, 18, 11) (16025,) 16025\n",
      "(2009, 18, 11) (2009,) 2009\n",
      "(2009, 18, 11) (2009,) 2009\n",
      "Epoch 1\n",
      "-------------------------------\n",
      "loss: 2.916102, accuracy: 3.1%\n",
      "loss: 2.029990, accuracy: 31.2%\n",
      "loss: 1.885072, accuracy: 29.7%\n"
     ]
    }
   ],
   "source": [
    "if __name__ == \"__main__\":\n",
    "\n",
    "    data_loaders, n_examples = fetch_dataloader(['train', 'val', 'test'], 0)\n",
    "    batch_size = 64\n",
    "\n",
    "    train_dataloader = data_loaders['train']\n",
    "    val_dataloader = data_loaders['val']\n",
    "    test_dataloader = data_loaders['test']\n",
    "\n",
    "    GRID_DIMS = (18, 11) # dimensions\n",
    "\n",
    "    device = torch.device('cuda' if torch.cuda.is_available() else 'cpu')\n",
    "    classes = ['6A+', '6B', '6B+', '6C', '6C+', '7A', '7A+', '7B', '7B+', '7C', '7C+', '8A', '8A+', '8B', '8B+']\n",
    "    n_classes = len(classes)\n",
    "\n",
    "    model = BinaryClimbCNN(n_classes).to(device)\n",
    "    loss_fn = nn.CrossEntropyLoss()\n",
    "    optimizer = torch.optim.Adam(model.parameters(), lr=1e-3, weight_decay=1e-5)\n",
    "\n",
    "    def train(dataloader, model, loss_fn, optimizer):\n",
    "        model.train()\n",
    "        loss_list, accuracy_list = [], []\n",
    "        for batch, (X, y) in enumerate(dataloader):\n",
    "            X, y = X.to(device), y.to(device)\n",
    "            X = X.float()\n",
    "\n",
    "            # Compute prediction and loss\n",
    "            pred = model(X)\n",
    "            loss = loss_fn(pred, y)\n",
    "\n",
    "            # Backpropagation\n",
    "            optimizer.zero_grad()\n",
    "            loss.backward()\n",
    "            optimizer.step()\n",
    "\n",
    "            # Calculate accuracy\n",
    "            correct = (pred.argmax(1) == y).type(torch.float).sum().item()\n",
    "            accuracy = correct / X.shape[0]\n",
    "\n",
    "            loss_list.append(loss.item())\n",
    "            accuracy_list.append(accuracy)\n",
    "\n",
    "            if batch % 100 == 0:\n",
    "                print(f\"loss: {loss.item():>7f}, accuracy: {accuracy * 100:>0.1f}%\")\n",
    "\n",
    "        return loss_list, accuracy_list\n",
    "\n",
    "\n",
    "    def test(dataloader, model):\n",
    "        model.eval()\n",
    "        test_loss, correct = 0, 0\n",
    "        with torch.no_grad():\n",
    "            for X, y in dataloader:\n",
    "                X, y = X.to(device), y.to(device)\n",
    "                X = X.float()\n",
    "                pred = model(X)\n",
    "                test_loss += loss_fn(pred, y).item()\n",
    "                correct += (pred.argmax(1) == y).type(torch.float).sum().item()\n",
    "\n",
    "        test_loss /= len(dataloader)\n",
    "        accuracy = correct / len(dataloader.dataset)\n",
    "        return test_loss, accuracy\n",
    "    \n",
    "    epochs = 1\n",
    "    train_loss, train_accuracy, test_loss, test_accuracy = [], [], [], []\n",
    "\n",
    "    for epoch in range(epochs):\n",
    "        print(f\"Epoch {epoch + 1}\\n-------------------------------\")\n",
    "        epoch_train_loss, epoch_train_accuracy = train(train_dataloader, model, loss_fn, optimizer)\n",
    "        epoch_test_loss, epoch_test_accuracy = test(test_dataloader, model)\n",
    "\n",
    "        train_loss.append(np.mean(epoch_train_loss))\n",
    "        train_accuracy.append(np.mean(epoch_train_accuracy))\n",
    "        test_loss.append(epoch_test_loss)\n",
    "        test_accuracy.append(epoch_test_accuracy)\n",
    "\n"
   ]
  },
  {
   "cell_type": "code",
   "execution_count": 7,
   "metadata": {},
   "outputs": [
    {
     "name": "stdout",
     "output_type": "stream",
     "text": [
      "[2.0686424315213205]\n"
     ]
    }
   ],
   "source": [
    "print(train_loss)"
   ]
  }
 ],
 "metadata": {
  "kernelspec": {
   "display_name": "Python 3",
   "language": "python",
   "name": "python3"
  },
  "language_info": {
   "codemirror_mode": {
    "name": "ipython",
    "version": 3
   },
   "file_extension": ".py",
   "mimetype": "text/x-python",
   "name": "python",
   "nbconvert_exporter": "python",
   "pygments_lexer": "ipython3",
   "version": "3.12.4"
  }
 },
 "nbformat": 4,
 "nbformat_minor": 2
}
